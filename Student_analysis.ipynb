{
 "cells": [
  {
   "cell_type": "code",
   "execution_count": 1,
   "id": "48e0021b-5106-474b-aaf9-70c443264856",
   "metadata": {
    "scrolled": true
   },
   "outputs": [
    {
     "data": {
      "text/html": [
       "<div>\n",
       "<style scoped>\n",
       "    .dataframe tbody tr th:only-of-type {\n",
       "        vertical-align: middle;\n",
       "    }\n",
       "\n",
       "    .dataframe tbody tr th {\n",
       "        vertical-align: top;\n",
       "    }\n",
       "\n",
       "    .dataframe thead th {\n",
       "        text-align: right;\n",
       "    }\n",
       "</style>\n",
       "<table border=\"1\" class=\"dataframe\">\n",
       "  <thead>\n",
       "    <tr style=\"text-align: right;\">\n",
       "      <th></th>\n",
       "      <th>school</th>\n",
       "      <th>sex</th>\n",
       "      <th>age</th>\n",
       "      <th>address</th>\n",
       "      <th>famsize</th>\n",
       "      <th>Pstatus</th>\n",
       "      <th>Medu</th>\n",
       "      <th>Fedu</th>\n",
       "      <th>Mjob</th>\n",
       "      <th>Fjob</th>\n",
       "      <th>...</th>\n",
       "      <th>famrel</th>\n",
       "      <th>freetime</th>\n",
       "      <th>goout</th>\n",
       "      <th>Dalc</th>\n",
       "      <th>Walc</th>\n",
       "      <th>health</th>\n",
       "      <th>absences</th>\n",
       "      <th>G1</th>\n",
       "      <th>G2</th>\n",
       "      <th>G3</th>\n",
       "    </tr>\n",
       "  </thead>\n",
       "  <tbody>\n",
       "    <tr>\n",
       "      <th>0</th>\n",
       "      <td>GP</td>\n",
       "      <td>F</td>\n",
       "      <td>18</td>\n",
       "      <td>U</td>\n",
       "      <td>GT3</td>\n",
       "      <td>A</td>\n",
       "      <td>4</td>\n",
       "      <td>4</td>\n",
       "      <td>at_home</td>\n",
       "      <td>teacher</td>\n",
       "      <td>...</td>\n",
       "      <td>4</td>\n",
       "      <td>3</td>\n",
       "      <td>4</td>\n",
       "      <td>1</td>\n",
       "      <td>1</td>\n",
       "      <td>3</td>\n",
       "      <td>4</td>\n",
       "      <td>0</td>\n",
       "      <td>11</td>\n",
       "      <td>11</td>\n",
       "    </tr>\n",
       "    <tr>\n",
       "      <th>1</th>\n",
       "      <td>GP</td>\n",
       "      <td>F</td>\n",
       "      <td>17</td>\n",
       "      <td>U</td>\n",
       "      <td>GT3</td>\n",
       "      <td>T</td>\n",
       "      <td>1</td>\n",
       "      <td>1</td>\n",
       "      <td>at_home</td>\n",
       "      <td>other</td>\n",
       "      <td>...</td>\n",
       "      <td>5</td>\n",
       "      <td>3</td>\n",
       "      <td>3</td>\n",
       "      <td>1</td>\n",
       "      <td>1</td>\n",
       "      <td>3</td>\n",
       "      <td>2</td>\n",
       "      <td>9</td>\n",
       "      <td>11</td>\n",
       "      <td>11</td>\n",
       "    </tr>\n",
       "    <tr>\n",
       "      <th>2</th>\n",
       "      <td>GP</td>\n",
       "      <td>F</td>\n",
       "      <td>15</td>\n",
       "      <td>U</td>\n",
       "      <td>LE3</td>\n",
       "      <td>T</td>\n",
       "      <td>1</td>\n",
       "      <td>1</td>\n",
       "      <td>at_home</td>\n",
       "      <td>other</td>\n",
       "      <td>...</td>\n",
       "      <td>4</td>\n",
       "      <td>3</td>\n",
       "      <td>2</td>\n",
       "      <td>2</td>\n",
       "      <td>3</td>\n",
       "      <td>3</td>\n",
       "      <td>6</td>\n",
       "      <td>12</td>\n",
       "      <td>13</td>\n",
       "      <td>12</td>\n",
       "    </tr>\n",
       "    <tr>\n",
       "      <th>3</th>\n",
       "      <td>GP</td>\n",
       "      <td>F</td>\n",
       "      <td>15</td>\n",
       "      <td>U</td>\n",
       "      <td>GT3</td>\n",
       "      <td>T</td>\n",
       "      <td>4</td>\n",
       "      <td>2</td>\n",
       "      <td>health</td>\n",
       "      <td>services</td>\n",
       "      <td>...</td>\n",
       "      <td>3</td>\n",
       "      <td>2</td>\n",
       "      <td>2</td>\n",
       "      <td>1</td>\n",
       "      <td>1</td>\n",
       "      <td>5</td>\n",
       "      <td>0</td>\n",
       "      <td>14</td>\n",
       "      <td>14</td>\n",
       "      <td>14</td>\n",
       "    </tr>\n",
       "    <tr>\n",
       "      <th>4</th>\n",
       "      <td>GP</td>\n",
       "      <td>F</td>\n",
       "      <td>16</td>\n",
       "      <td>U</td>\n",
       "      <td>GT3</td>\n",
       "      <td>T</td>\n",
       "      <td>3</td>\n",
       "      <td>3</td>\n",
       "      <td>other</td>\n",
       "      <td>other</td>\n",
       "      <td>...</td>\n",
       "      <td>4</td>\n",
       "      <td>3</td>\n",
       "      <td>2</td>\n",
       "      <td>1</td>\n",
       "      <td>2</td>\n",
       "      <td>5</td>\n",
       "      <td>0</td>\n",
       "      <td>11</td>\n",
       "      <td>13</td>\n",
       "      <td>13</td>\n",
       "    </tr>\n",
       "    <tr>\n",
       "      <th>...</th>\n",
       "      <td>...</td>\n",
       "      <td>...</td>\n",
       "      <td>...</td>\n",
       "      <td>...</td>\n",
       "      <td>...</td>\n",
       "      <td>...</td>\n",
       "      <td>...</td>\n",
       "      <td>...</td>\n",
       "      <td>...</td>\n",
       "      <td>...</td>\n",
       "      <td>...</td>\n",
       "      <td>...</td>\n",
       "      <td>...</td>\n",
       "      <td>...</td>\n",
       "      <td>...</td>\n",
       "      <td>...</td>\n",
       "      <td>...</td>\n",
       "      <td>...</td>\n",
       "      <td>...</td>\n",
       "      <td>...</td>\n",
       "      <td>...</td>\n",
       "    </tr>\n",
       "    <tr>\n",
       "      <th>644</th>\n",
       "      <td>MS</td>\n",
       "      <td>F</td>\n",
       "      <td>19</td>\n",
       "      <td>R</td>\n",
       "      <td>GT3</td>\n",
       "      <td>T</td>\n",
       "      <td>2</td>\n",
       "      <td>3</td>\n",
       "      <td>services</td>\n",
       "      <td>other</td>\n",
       "      <td>...</td>\n",
       "      <td>5</td>\n",
       "      <td>4</td>\n",
       "      <td>2</td>\n",
       "      <td>1</td>\n",
       "      <td>2</td>\n",
       "      <td>5</td>\n",
       "      <td>4</td>\n",
       "      <td>10</td>\n",
       "      <td>11</td>\n",
       "      <td>10</td>\n",
       "    </tr>\n",
       "    <tr>\n",
       "      <th>645</th>\n",
       "      <td>MS</td>\n",
       "      <td>F</td>\n",
       "      <td>18</td>\n",
       "      <td>U</td>\n",
       "      <td>LE3</td>\n",
       "      <td>T</td>\n",
       "      <td>3</td>\n",
       "      <td>1</td>\n",
       "      <td>teacher</td>\n",
       "      <td>services</td>\n",
       "      <td>...</td>\n",
       "      <td>4</td>\n",
       "      <td>3</td>\n",
       "      <td>4</td>\n",
       "      <td>1</td>\n",
       "      <td>1</td>\n",
       "      <td>1</td>\n",
       "      <td>4</td>\n",
       "      <td>15</td>\n",
       "      <td>15</td>\n",
       "      <td>16</td>\n",
       "    </tr>\n",
       "    <tr>\n",
       "      <th>646</th>\n",
       "      <td>MS</td>\n",
       "      <td>F</td>\n",
       "      <td>18</td>\n",
       "      <td>U</td>\n",
       "      <td>GT3</td>\n",
       "      <td>T</td>\n",
       "      <td>1</td>\n",
       "      <td>1</td>\n",
       "      <td>other</td>\n",
       "      <td>other</td>\n",
       "      <td>...</td>\n",
       "      <td>1</td>\n",
       "      <td>1</td>\n",
       "      <td>1</td>\n",
       "      <td>1</td>\n",
       "      <td>1</td>\n",
       "      <td>5</td>\n",
       "      <td>6</td>\n",
       "      <td>11</td>\n",
       "      <td>12</td>\n",
       "      <td>9</td>\n",
       "    </tr>\n",
       "    <tr>\n",
       "      <th>647</th>\n",
       "      <td>MS</td>\n",
       "      <td>M</td>\n",
       "      <td>17</td>\n",
       "      <td>U</td>\n",
       "      <td>LE3</td>\n",
       "      <td>T</td>\n",
       "      <td>3</td>\n",
       "      <td>1</td>\n",
       "      <td>services</td>\n",
       "      <td>services</td>\n",
       "      <td>...</td>\n",
       "      <td>2</td>\n",
       "      <td>4</td>\n",
       "      <td>5</td>\n",
       "      <td>3</td>\n",
       "      <td>4</td>\n",
       "      <td>2</td>\n",
       "      <td>6</td>\n",
       "      <td>10</td>\n",
       "      <td>10</td>\n",
       "      <td>10</td>\n",
       "    </tr>\n",
       "    <tr>\n",
       "      <th>648</th>\n",
       "      <td>MS</td>\n",
       "      <td>M</td>\n",
       "      <td>18</td>\n",
       "      <td>R</td>\n",
       "      <td>LE3</td>\n",
       "      <td>T</td>\n",
       "      <td>3</td>\n",
       "      <td>2</td>\n",
       "      <td>services</td>\n",
       "      <td>other</td>\n",
       "      <td>...</td>\n",
       "      <td>4</td>\n",
       "      <td>4</td>\n",
       "      <td>1</td>\n",
       "      <td>3</td>\n",
       "      <td>4</td>\n",
       "      <td>5</td>\n",
       "      <td>4</td>\n",
       "      <td>10</td>\n",
       "      <td>11</td>\n",
       "      <td>11</td>\n",
       "    </tr>\n",
       "  </tbody>\n",
       "</table>\n",
       "<p>649 rows × 33 columns</p>\n",
       "</div>"
      ],
      "text/plain": [
       "    school sex  age address famsize Pstatus  Medu  Fedu      Mjob      Fjob  \\\n",
       "0       GP   F   18       U     GT3       A     4     4   at_home   teacher   \n",
       "1       GP   F   17       U     GT3       T     1     1   at_home     other   \n",
       "2       GP   F   15       U     LE3       T     1     1   at_home     other   \n",
       "3       GP   F   15       U     GT3       T     4     2    health  services   \n",
       "4       GP   F   16       U     GT3       T     3     3     other     other   \n",
       "..     ...  ..  ...     ...     ...     ...   ...   ...       ...       ...   \n",
       "644     MS   F   19       R     GT3       T     2     3  services     other   \n",
       "645     MS   F   18       U     LE3       T     3     1   teacher  services   \n",
       "646     MS   F   18       U     GT3       T     1     1     other     other   \n",
       "647     MS   M   17       U     LE3       T     3     1  services  services   \n",
       "648     MS   M   18       R     LE3       T     3     2  services     other   \n",
       "\n",
       "     ... famrel freetime  goout  Dalc  Walc health absences  G1  G2  G3  \n",
       "0    ...      4        3      4     1     1      3        4   0  11  11  \n",
       "1    ...      5        3      3     1     1      3        2   9  11  11  \n",
       "2    ...      4        3      2     2     3      3        6  12  13  12  \n",
       "3    ...      3        2      2     1     1      5        0  14  14  14  \n",
       "4    ...      4        3      2     1     2      5        0  11  13  13  \n",
       "..   ...    ...      ...    ...   ...   ...    ...      ...  ..  ..  ..  \n",
       "644  ...      5        4      2     1     2      5        4  10  11  10  \n",
       "645  ...      4        3      4     1     1      1        4  15  15  16  \n",
       "646  ...      1        1      1     1     1      5        6  11  12   9  \n",
       "647  ...      2        4      5     3     4      2        6  10  10  10  \n",
       "648  ...      4        4      1     3     4      5        4  10  11  11  \n",
       "\n",
       "[649 rows x 33 columns]"
      ]
     },
     "execution_count": 1,
     "metadata": {},
     "output_type": "execute_result"
    }
   ],
   "source": [
    "import pandas as pd\n",
    "df = pd.read_csv(r\"C:\\Users\\Chandan\\Desktop\\ETLHIVE\\Basic Python\\Datasets\\student-por.csv\")\n",
    "df"
   ]
  },
  {
   "cell_type": "code",
   "execution_count": 20,
   "id": "6905671a-04fb-4a1c-9476-c44e2f6677a6",
   "metadata": {
    "scrolled": true
   },
   "outputs": [
    {
     "data": {
      "text/plain": [
       "0    F\n",
       "1    F\n",
       "2    F\n",
       "3    F\n",
       "4    F\n",
       "5    M\n",
       "6    M\n",
       "7    F\n",
       "8    M\n",
       "9    M\n",
       "Name: sex, dtype: object"
      ]
     },
     "execution_count": 20,
     "metadata": {},
     "output_type": "execute_result"
    }
   ],
   "source": [
    "df['sex'].head(10)"
   ]
  },
  {
   "cell_type": "code",
   "execution_count": 7,
   "id": "60134e20-30be-440c-a815-baf235bc8f35",
   "metadata": {},
   "outputs": [
    {
     "data": {
      "text/plain": [
       "(649, 33)"
      ]
     },
     "execution_count": 7,
     "metadata": {},
     "output_type": "execute_result"
    }
   ],
   "source": [
    "# Dimensions\n",
    "df.shape"
   ]
  },
  {
   "cell_type": "code",
   "execution_count": 11,
   "id": "4a5fdb56-a6b9-4f8c-9a5a-b172544a807c",
   "metadata": {},
   "outputs": [
    {
     "data": {
      "text/plain": [
       "Index(['school', 'sex', 'age', 'address', 'famsize', 'Pstatus', 'Medu', 'Fedu',\n",
       "       'Mjob', 'Fjob', 'reason', 'guardian', 'traveltime', 'studytime',\n",
       "       'failures', 'schoolsup', 'famsup', 'paid', 'activities', 'nursery',\n",
       "       'higher', 'internet', 'romantic', 'famrel', 'freetime', 'goout', 'Dalc',\n",
       "       'Walc', 'health', 'absences', 'G1', 'G2', 'G3'],\n",
       "      dtype='object')"
      ]
     },
     "execution_count": 11,
     "metadata": {},
     "output_type": "execute_result"
    }
   ],
   "source": [
    "# Column Headers\n",
    "df.columns"
   ]
  },
  {
   "cell_type": "code",
   "execution_count": 15,
   "id": "53ba534b-6090-41f7-9a3b-6c934a98b7b4",
   "metadata": {},
   "outputs": [
    {
     "data": {
      "text/html": [
       "<div>\n",
       "<style scoped>\n",
       "    .dataframe tbody tr th:only-of-type {\n",
       "        vertical-align: middle;\n",
       "    }\n",
       "\n",
       "    .dataframe tbody tr th {\n",
       "        vertical-align: top;\n",
       "    }\n",
       "\n",
       "    .dataframe thead th {\n",
       "        text-align: right;\n",
       "    }\n",
       "</style>\n",
       "<table border=\"1\" class=\"dataframe\">\n",
       "  <thead>\n",
       "    <tr style=\"text-align: right;\">\n",
       "      <th></th>\n",
       "      <th>age</th>\n",
       "      <th>Medu</th>\n",
       "      <th>Fedu</th>\n",
       "      <th>traveltime</th>\n",
       "      <th>studytime</th>\n",
       "      <th>failures</th>\n",
       "      <th>famrel</th>\n",
       "      <th>freetime</th>\n",
       "      <th>goout</th>\n",
       "      <th>Dalc</th>\n",
       "      <th>Walc</th>\n",
       "      <th>health</th>\n",
       "      <th>absences</th>\n",
       "      <th>G1</th>\n",
       "      <th>G2</th>\n",
       "      <th>G3</th>\n",
       "    </tr>\n",
       "  </thead>\n",
       "  <tbody>\n",
       "    <tr>\n",
       "      <th>count</th>\n",
       "      <td>649.000000</td>\n",
       "      <td>649.000000</td>\n",
       "      <td>649.000000</td>\n",
       "      <td>649.000000</td>\n",
       "      <td>649.000000</td>\n",
       "      <td>649.000000</td>\n",
       "      <td>649.000000</td>\n",
       "      <td>649.000000</td>\n",
       "      <td>649.000000</td>\n",
       "      <td>649.000000</td>\n",
       "      <td>649.000000</td>\n",
       "      <td>649.000000</td>\n",
       "      <td>649.000000</td>\n",
       "      <td>649.000000</td>\n",
       "      <td>649.000000</td>\n",
       "      <td>649.000000</td>\n",
       "    </tr>\n",
       "    <tr>\n",
       "      <th>mean</th>\n",
       "      <td>16.744222</td>\n",
       "      <td>2.514638</td>\n",
       "      <td>2.306626</td>\n",
       "      <td>1.568567</td>\n",
       "      <td>1.930663</td>\n",
       "      <td>0.221880</td>\n",
       "      <td>3.930663</td>\n",
       "      <td>3.180277</td>\n",
       "      <td>3.184900</td>\n",
       "      <td>1.502311</td>\n",
       "      <td>2.280431</td>\n",
       "      <td>3.536210</td>\n",
       "      <td>3.659476</td>\n",
       "      <td>11.399076</td>\n",
       "      <td>11.570108</td>\n",
       "      <td>11.906009</td>\n",
       "    </tr>\n",
       "    <tr>\n",
       "      <th>std</th>\n",
       "      <td>1.218138</td>\n",
       "      <td>1.134552</td>\n",
       "      <td>1.099931</td>\n",
       "      <td>0.748660</td>\n",
       "      <td>0.829510</td>\n",
       "      <td>0.593235</td>\n",
       "      <td>0.955717</td>\n",
       "      <td>1.051093</td>\n",
       "      <td>1.175766</td>\n",
       "      <td>0.924834</td>\n",
       "      <td>1.284380</td>\n",
       "      <td>1.446259</td>\n",
       "      <td>4.640759</td>\n",
       "      <td>2.745265</td>\n",
       "      <td>2.913639</td>\n",
       "      <td>3.230656</td>\n",
       "    </tr>\n",
       "    <tr>\n",
       "      <th>min</th>\n",
       "      <td>15.000000</td>\n",
       "      <td>0.000000</td>\n",
       "      <td>0.000000</td>\n",
       "      <td>1.000000</td>\n",
       "      <td>1.000000</td>\n",
       "      <td>0.000000</td>\n",
       "      <td>1.000000</td>\n",
       "      <td>1.000000</td>\n",
       "      <td>1.000000</td>\n",
       "      <td>1.000000</td>\n",
       "      <td>1.000000</td>\n",
       "      <td>1.000000</td>\n",
       "      <td>0.000000</td>\n",
       "      <td>0.000000</td>\n",
       "      <td>0.000000</td>\n",
       "      <td>0.000000</td>\n",
       "    </tr>\n",
       "    <tr>\n",
       "      <th>25%</th>\n",
       "      <td>16.000000</td>\n",
       "      <td>2.000000</td>\n",
       "      <td>1.000000</td>\n",
       "      <td>1.000000</td>\n",
       "      <td>1.000000</td>\n",
       "      <td>0.000000</td>\n",
       "      <td>4.000000</td>\n",
       "      <td>3.000000</td>\n",
       "      <td>2.000000</td>\n",
       "      <td>1.000000</td>\n",
       "      <td>1.000000</td>\n",
       "      <td>2.000000</td>\n",
       "      <td>0.000000</td>\n",
       "      <td>10.000000</td>\n",
       "      <td>10.000000</td>\n",
       "      <td>10.000000</td>\n",
       "    </tr>\n",
       "    <tr>\n",
       "      <th>50%</th>\n",
       "      <td>17.000000</td>\n",
       "      <td>2.000000</td>\n",
       "      <td>2.000000</td>\n",
       "      <td>1.000000</td>\n",
       "      <td>2.000000</td>\n",
       "      <td>0.000000</td>\n",
       "      <td>4.000000</td>\n",
       "      <td>3.000000</td>\n",
       "      <td>3.000000</td>\n",
       "      <td>1.000000</td>\n",
       "      <td>2.000000</td>\n",
       "      <td>4.000000</td>\n",
       "      <td>2.000000</td>\n",
       "      <td>11.000000</td>\n",
       "      <td>11.000000</td>\n",
       "      <td>12.000000</td>\n",
       "    </tr>\n",
       "    <tr>\n",
       "      <th>75%</th>\n",
       "      <td>18.000000</td>\n",
       "      <td>4.000000</td>\n",
       "      <td>3.000000</td>\n",
       "      <td>2.000000</td>\n",
       "      <td>2.000000</td>\n",
       "      <td>0.000000</td>\n",
       "      <td>5.000000</td>\n",
       "      <td>4.000000</td>\n",
       "      <td>4.000000</td>\n",
       "      <td>2.000000</td>\n",
       "      <td>3.000000</td>\n",
       "      <td>5.000000</td>\n",
       "      <td>6.000000</td>\n",
       "      <td>13.000000</td>\n",
       "      <td>13.000000</td>\n",
       "      <td>14.000000</td>\n",
       "    </tr>\n",
       "    <tr>\n",
       "      <th>max</th>\n",
       "      <td>22.000000</td>\n",
       "      <td>4.000000</td>\n",
       "      <td>4.000000</td>\n",
       "      <td>4.000000</td>\n",
       "      <td>4.000000</td>\n",
       "      <td>3.000000</td>\n",
       "      <td>5.000000</td>\n",
       "      <td>5.000000</td>\n",
       "      <td>5.000000</td>\n",
       "      <td>5.000000</td>\n",
       "      <td>5.000000</td>\n",
       "      <td>5.000000</td>\n",
       "      <td>32.000000</td>\n",
       "      <td>19.000000</td>\n",
       "      <td>19.000000</td>\n",
       "      <td>19.000000</td>\n",
       "    </tr>\n",
       "  </tbody>\n",
       "</table>\n",
       "</div>"
      ],
      "text/plain": [
       "              age        Medu        Fedu  traveltime   studytime    failures  \\\n",
       "count  649.000000  649.000000  649.000000  649.000000  649.000000  649.000000   \n",
       "mean    16.744222    2.514638    2.306626    1.568567    1.930663    0.221880   \n",
       "std      1.218138    1.134552    1.099931    0.748660    0.829510    0.593235   \n",
       "min     15.000000    0.000000    0.000000    1.000000    1.000000    0.000000   \n",
       "25%     16.000000    2.000000    1.000000    1.000000    1.000000    0.000000   \n",
       "50%     17.000000    2.000000    2.000000    1.000000    2.000000    0.000000   \n",
       "75%     18.000000    4.000000    3.000000    2.000000    2.000000    0.000000   \n",
       "max     22.000000    4.000000    4.000000    4.000000    4.000000    3.000000   \n",
       "\n",
       "           famrel    freetime       goout        Dalc        Walc      health  \\\n",
       "count  649.000000  649.000000  649.000000  649.000000  649.000000  649.000000   \n",
       "mean     3.930663    3.180277    3.184900    1.502311    2.280431    3.536210   \n",
       "std      0.955717    1.051093    1.175766    0.924834    1.284380    1.446259   \n",
       "min      1.000000    1.000000    1.000000    1.000000    1.000000    1.000000   \n",
       "25%      4.000000    3.000000    2.000000    1.000000    1.000000    2.000000   \n",
       "50%      4.000000    3.000000    3.000000    1.000000    2.000000    4.000000   \n",
       "75%      5.000000    4.000000    4.000000    2.000000    3.000000    5.000000   \n",
       "max      5.000000    5.000000    5.000000    5.000000    5.000000    5.000000   \n",
       "\n",
       "         absences          G1          G2          G3  \n",
       "count  649.000000  649.000000  649.000000  649.000000  \n",
       "mean     3.659476   11.399076   11.570108   11.906009  \n",
       "std      4.640759    2.745265    2.913639    3.230656  \n",
       "min      0.000000    0.000000    0.000000    0.000000  \n",
       "25%      0.000000   10.000000   10.000000   10.000000  \n",
       "50%      2.000000   11.000000   11.000000   12.000000  \n",
       "75%      6.000000   13.000000   13.000000   14.000000  \n",
       "max     32.000000   19.000000   19.000000   19.000000  "
      ]
     },
     "execution_count": 15,
     "metadata": {},
     "output_type": "execute_result"
    }
   ],
   "source": [
    "# Statistical Details\n",
    "df.describe()"
   ]
  },
  {
   "cell_type": "code",
   "execution_count": 17,
   "id": "336bd00a-e859-44e8-bf13-57759b7920b4",
   "metadata": {},
   "outputs": [
    {
     "name": "stdout",
     "output_type": "stream",
     "text": [
      "<class 'pandas.core.frame.DataFrame'>\n",
      "RangeIndex: 649 entries, 0 to 648\n",
      "Data columns (total 33 columns):\n",
      " #   Column      Non-Null Count  Dtype \n",
      "---  ------      --------------  ----- \n",
      " 0   school      649 non-null    object\n",
      " 1   sex         649 non-null    object\n",
      " 2   age         649 non-null    int64 \n",
      " 3   address     649 non-null    object\n",
      " 4   famsize     649 non-null    object\n",
      " 5   Pstatus     649 non-null    object\n",
      " 6   Medu        649 non-null    int64 \n",
      " 7   Fedu        649 non-null    int64 \n",
      " 8   Mjob        649 non-null    object\n",
      " 9   Fjob        649 non-null    object\n",
      " 10  reason      649 non-null    object\n",
      " 11  guardian    649 non-null    object\n",
      " 12  traveltime  649 non-null    int64 \n",
      " 13  studytime   649 non-null    int64 \n",
      " 14  failures    649 non-null    int64 \n",
      " 15  schoolsup   649 non-null    object\n",
      " 16  famsup      649 non-null    object\n",
      " 17  paid        649 non-null    object\n",
      " 18  activities  649 non-null    object\n",
      " 19  nursery     649 non-null    object\n",
      " 20  higher      649 non-null    object\n",
      " 21  internet    649 non-null    object\n",
      " 22  romantic    649 non-null    object\n",
      " 23  famrel      649 non-null    int64 \n",
      " 24  freetime    649 non-null    int64 \n",
      " 25  goout       649 non-null    int64 \n",
      " 26  Dalc        649 non-null    int64 \n",
      " 27  Walc        649 non-null    int64 \n",
      " 28  health      649 non-null    int64 \n",
      " 29  absences    649 non-null    int64 \n",
      " 30  G1          649 non-null    int64 \n",
      " 31  G2          649 non-null    int64 \n",
      " 32  G3          649 non-null    int64 \n",
      "dtypes: int64(16), object(17)\n",
      "memory usage: 167.4+ KB\n"
     ]
    }
   ],
   "source": [
    "# Information\n",
    "df.info()"
   ]
  },
  {
   "cell_type": "markdown",
   "id": "f323af0e-65b7-4530-82c8-61293a77f574",
   "metadata": {},
   "source": [
    "## Segregation "
   ]
  },
  {
   "cell_type": "code",
   "execution_count": 22,
   "id": "4e26e5ac-323b-4d41-bbfe-761aa0469625",
   "metadata": {},
   "outputs": [],
   "source": [
    "cat = []\n",
    "con = []\n",
    "\n",
    "for i in df.columns:\n",
    "    if df[i].dtypes == \"object\":\n",
    "        cat.append(i)\n",
    "    else:\n",
    "        con.append(i)"
   ]
  },
  {
   "cell_type": "code",
   "execution_count": 26,
   "id": "42d26cb0-7dfc-4330-8607-5bcea9e8fa7f",
   "metadata": {},
   "outputs": [
    {
     "name": "stdout",
     "output_type": "stream",
     "text": [
      "['school', 'sex', 'address', 'famsize', 'Pstatus', 'Mjob', 'Fjob', 'reason', 'guardian', 'schoolsup', 'famsup', 'paid', 'activities', 'nursery', 'higher', 'internet', 'romantic']\n"
     ]
    }
   ],
   "source": [
    "print(cat)"
   ]
  },
  {
   "cell_type": "code",
   "execution_count": 28,
   "id": "3a2bcac2-d3fc-4a23-b697-c37c45a10744",
   "metadata": {},
   "outputs": [
    {
     "name": "stdout",
     "output_type": "stream",
     "text": [
      "['age', 'Medu', 'Fedu', 'traveltime', 'studytime', 'failures', 'famrel', 'freetime', 'goout', 'Dalc', 'Walc', 'health', 'absences', 'G1', 'G2', 'G3']\n"
     ]
    }
   ],
   "source": [
    "print(con)"
   ]
  },
  {
   "cell_type": "markdown",
   "id": "e57c393f-66a7-4b90-80c9-df27c9ec1646",
   "metadata": {},
   "source": [
    "## Univariate Analysis "
   ]
  },
  {
   "cell_type": "markdown",
   "id": "e9d120c5-534f-403c-a928-db6190924e21",
   "metadata": {},
   "source": [
    "### Categorial Column Type"
   ]
  },
  {
   "cell_type": "code",
   "execution_count": 35,
   "id": "e777069b-8c04-42fc-b462-42708c4e99c1",
   "metadata": {},
   "outputs": [
    {
     "data": {
      "text/plain": [
       "sex\n",
       "F    383\n",
       "M    266\n",
       "Name: count, dtype: int64"
      ]
     },
     "execution_count": 35,
     "metadata": {},
     "output_type": "execute_result"
    }
   ],
   "source": [
    "df['sex'].value_counts()"
   ]
  },
  {
   "cell_type": "code",
   "execution_count": 225,
   "id": "b7180874-3502-4d37-98cc-e051bafa25f8",
   "metadata": {},
   "outputs": [
    {
     "data": {
      "text/plain": [
       "<Axes: xlabel='sex'>"
      ]
     },
     "execution_count": 225,
     "metadata": {},
     "output_type": "execute_result"
    },
    {
     "data": {
      "image/png": "[encoded data removed]",
      "text/plain": [
       "<Figure size 600x400 with 1 Axes>"
      ]
     },
     "metadata": {},
     "output_type": "display_data"
    }
   ],
   "source": [
    "plt.figure(figsize=(6,4))\n",
    "df['sex'].value_counts().plot(kind='bar')"
   ]
  },
  {
   "cell_type": "code",
   "execution_count": 39,
   "id": "1e8f1e14-bed2-4f44-8ca4-c29e33297c88",
   "metadata": {},
   "outputs": [
    {
     "data": {
      "text/plain": [
       "famsize\n",
       "GT3    457\n",
       "LE3    192\n",
       "Name: count, dtype: int64"
      ]
     },
     "execution_count": 39,
     "metadata": {},
     "output_type": "execute_result"
    }
   ],
   "source": [
    "df['famsize'].value_counts()"
   ]
  },
  {
   "cell_type": "code",
   "execution_count": 89,
   "id": "7d25c1fa-5c28-4805-87c2-e5e4be652b00",
   "metadata": {},
   "outputs": [
    {
     "data": {
      "text/plain": [
       "<Axes: ylabel='school'>"
      ]
     },
     "execution_count": 89,
     "metadata": {},
     "output_type": "execute_result"
    },
    {
     "data": {
      "image/png": "[encoded data removed]",
      "text/plain": [
       "<Figure size 640x480 with 1 Axes>"
      ]
     },
     "metadata": {},
     "output_type": "display_data"
    }
   ],
   "source": [
    "df['school'].value_counts().plot(kind='barh')"
   ]
  },
  {
   "cell_type": "code",
   "execution_count": 111,
   "id": "155598bd-da35-42d9-96ed-687ba3bdaec8",
   "metadata": {},
   "outputs": [
    {
     "data": {
      "image/png": "[encoded data removed]",
      "text/plain": [
       "<Figure size 500x300 with 1 Axes>"
      ]
     },
     "metadata": {},
     "output_type": "display_data"
    }
   ],
   "source": [
    "import matplotlib.pyplot as plt\n",
    "import seaborn as sns\n",
    "\n",
    "plt.figure(figsize=(5,3))\n",
    "\n",
    "sns.countplot(df['Fjob'])\n",
    "plt.title(\"Countplot of Father's job\")\n",
    "plt.show()"
   ]
  },
  {
   "cell_type": "code",
   "execution_count": 97,
   "id": "a5bbc1a4-1302-49b6-9d25-329d9e436efe",
   "metadata": {},
   "outputs": [
    {
     "data": {
      "text/plain": [
       "Mjob\n",
       "other       258\n",
       "services    136\n",
       "at_home     135\n",
       "teacher      72\n",
       "health       48\n",
       "Name: count, dtype: int64"
      ]
     },
     "execution_count": 97,
     "metadata": {},
     "output_type": "execute_result"
    }
   ],
   "source": [
    "df['Mjob'].value_counts()"
   ]
  },
  {
   "cell_type": "code",
   "execution_count": 127,
   "id": "68ba0298-8e29-4214-b11e-887342eb2177",
   "metadata": {},
   "outputs": [
    {
     "data": {
      "image/png": "[encoded data removed]",
      "text/plain": [
       "<Figure size 400x300 with 1 Axes>"
      ]
     },
     "metadata": {},
     "output_type": "display_data"
    }
   ],
   "source": [
    "plt.figure(figsize=(4,3))\n",
    "sns.countplot(x='Mjob', data=df)\n",
    "plt.ylabel('Counts')\n",
    "plt.title(\"Countplot of Mother's Job\")\n",
    "plt.show()"
   ]
  },
  {
   "cell_type": "code",
   "execution_count": 131,
   "id": "dcea5d86-e6c2-434a-b2b3-506cf2779a35",
   "metadata": {},
   "outputs": [
    {
     "name": "stdout",
     "output_type": "stream",
     "text": [
      "['age', 'Medu', 'Fedu', 'traveltime', 'studytime', 'failures', 'famrel', 'freetime', 'goout', 'Dalc', 'Walc', 'health', 'absences', 'G1', 'G2', 'G3']\n"
     ]
    }
   ],
   "source": [
    "print(con)"
   ]
  },
  {
   "cell_type": "code",
   "execution_count": 162,
   "id": "5e0194fe-540c-4b42-aa9c-264fae51b621",
   "metadata": {},
   "outputs": [
    {
     "data": {
      "image/png": "[encoded data removed]",
      "text/plain": [
       "<Figure size 400x500 with 1 Axes>"
      ]
     },
     "metadata": {},
     "output_type": "display_data"
    }
   ],
   "source": [
    "plt.figure(figsize=(4,5))\n",
    "sns.histplot(df['age'], bins=10, edgecolor='black')\n",
    "plt.xlabel('Student ages')\n",
    "plt.title(\"Histogram of Student Studytime\")\n",
    "plt.show()"
   ]
  },
  {
   "cell_type": "code",
   "execution_count": 191,
   "id": "d993ae45-27c3-4527-9db8-0c169392546e",
   "metadata": {},
   "outputs": [
    {
     "data": {
      "image/png": "[encoded data removed]",
      "text/plain": [
       "<Figure size 640x480 with 1 Axes>"
      ]
     },
     "metadata": {},
     "output_type": "display_data"
    }
   ],
   "source": [
    "x = df['sex'].value_counts()\n",
    "x\n",
    "plt.pie(x,labels=x.index,autopct=\"%d%%\")\n",
    "plt.show()\n"
   ]
  },
  {
   "cell_type": "code",
   "execution_count": 164,
   "id": "37547dde-f90a-4e53-9489-40faba2abf23",
   "metadata": {},
   "outputs": [
    {
     "name": "stdout",
     "output_type": "stream",
     "text": [
      "['school', 'sex', 'address', 'famsize', 'Pstatus', 'Mjob', 'Fjob', 'reason', 'guardian', 'schoolsup', 'famsup', 'paid', 'activities', 'nursery', 'higher', 'internet', 'romantic']\n"
     ]
    }
   ],
   "source": [
    "print(cat)"
   ]
  },
  {
   "cell_type": "code",
   "execution_count": 166,
   "id": "5d9c2a3c-bc17-4271-ad75-a0a47c579b23",
   "metadata": {},
   "outputs": [
    {
     "name": "stdout",
     "output_type": "stream",
     "text": [
      "['age', 'Medu', 'Fedu', 'traveltime', 'studytime', 'failures', 'famrel', 'freetime', 'goout', 'Dalc', 'Walc', 'health', 'absences', 'G1', 'G2', 'G3']\n"
     ]
    }
   ],
   "source": [
    "print(con)"
   ]
  },
  {
   "cell_type": "markdown",
   "id": "ae7b6707-19fa-4aa2-8134-97c676af4099",
   "metadata": {},
   "source": [
    "### Correlation"
   ]
  },
  {
   "cell_type": "code",
   "execution_count": 173,
   "id": "524bfa87-6276-4b2b-8713-f9c533710d17",
   "metadata": {},
   "outputs": [
    {
     "data": {
      "text/html": [
       "<div>\n",
       "<style scoped>\n",
       "    .dataframe tbody tr th:only-of-type {\n",
       "        vertical-align: middle;\n",
       "    }\n",
       "\n",
       "    .dataframe tbody tr th {\n",
       "        vertical-align: top;\n",
       "    }\n",
       "\n",
       "    .dataframe thead th {\n",
       "        text-align: right;\n",
       "    }\n",
       "</style>\n",
       "<table border=\"1\" class=\"dataframe\">\n",
       "  <thead>\n",
       "    <tr style=\"text-align: right;\">\n",
       "      <th></th>\n",
       "      <th>age</th>\n",
       "      <th>health</th>\n",
       "    </tr>\n",
       "  </thead>\n",
       "  <tbody>\n",
       "    <tr>\n",
       "      <th>age</th>\n",
       "      <td>1.00000</td>\n",
       "      <td>-0.00875</td>\n",
       "    </tr>\n",
       "    <tr>\n",
       "      <th>health</th>\n",
       "      <td>-0.00875</td>\n",
       "      <td>1.00000</td>\n",
       "    </tr>\n",
       "  </tbody>\n",
       "</table>\n",
       "</div>"
      ],
      "text/plain": [
       "            age   health\n",
       "age     1.00000 -0.00875\n",
       "health -0.00875  1.00000"
      ]
     },
     "execution_count": 173,
     "metadata": {},
     "output_type": "execute_result"
    }
   ],
   "source": [
    "df[['age', 'health']].corr()"
   ]
  },
  {
   "cell_type": "code",
   "execution_count": 181,
   "id": "e7986d07-4788-4a77-b790-3d1be9623f31",
   "metadata": {},
   "outputs": [
    {
     "data": {
      "text/html": [
       "<div>\n",
       "<style scoped>\n",
       "    .dataframe tbody tr th:only-of-type {\n",
       "        vertical-align: middle;\n",
       "    }\n",
       "\n",
       "    .dataframe tbody tr th {\n",
       "        vertical-align: top;\n",
       "    }\n",
       "\n",
       "    .dataframe thead th {\n",
       "        text-align: right;\n",
       "    }\n",
       "</style>\n",
       "<table border=\"1\" class=\"dataframe\">\n",
       "  <thead>\n",
       "    <tr style=\"text-align: right;\">\n",
       "      <th></th>\n",
       "      <th>age</th>\n",
       "      <th>Medu</th>\n",
       "      <th>Fedu</th>\n",
       "      <th>traveltime</th>\n",
       "      <th>studytime</th>\n",
       "      <th>failures</th>\n",
       "      <th>famrel</th>\n",
       "      <th>freetime</th>\n",
       "      <th>goout</th>\n",
       "      <th>Dalc</th>\n",
       "      <th>Walc</th>\n",
       "      <th>health</th>\n",
       "      <th>absences</th>\n",
       "      <th>G1</th>\n",
       "      <th>G2</th>\n",
       "      <th>G3</th>\n",
       "    </tr>\n",
       "  </thead>\n",
       "  <tbody>\n",
       "    <tr>\n",
       "      <th>age</th>\n",
       "      <td>1.000000</td>\n",
       "      <td>-0.107832</td>\n",
       "      <td>-0.121050</td>\n",
       "      <td>0.034490</td>\n",
       "      <td>-0.008415</td>\n",
       "      <td>0.319968</td>\n",
       "      <td>-0.020559</td>\n",
       "      <td>-0.004910</td>\n",
       "      <td>0.112805</td>\n",
       "      <td>0.134768</td>\n",
       "      <td>0.086357</td>\n",
       "      <td>-0.008750</td>\n",
       "      <td>0.149998</td>\n",
       "      <td>-0.174322</td>\n",
       "      <td>-0.107119</td>\n",
       "      <td>-0.106505</td>\n",
       "    </tr>\n",
       "    <tr>\n",
       "      <th>Medu</th>\n",
       "      <td>-0.107832</td>\n",
       "      <td>1.000000</td>\n",
       "      <td>0.647477</td>\n",
       "      <td>-0.265079</td>\n",
       "      <td>0.097006</td>\n",
       "      <td>-0.172210</td>\n",
       "      <td>0.024421</td>\n",
       "      <td>-0.019686</td>\n",
       "      <td>0.009536</td>\n",
       "      <td>-0.007018</td>\n",
       "      <td>-0.019766</td>\n",
       "      <td>0.004614</td>\n",
       "      <td>-0.008577</td>\n",
       "      <td>0.260472</td>\n",
       "      <td>0.264035</td>\n",
       "      <td>0.240151</td>\n",
       "    </tr>\n",
       "    <tr>\n",
       "      <th>Fedu</th>\n",
       "      <td>-0.121050</td>\n",
       "      <td>0.647477</td>\n",
       "      <td>1.000000</td>\n",
       "      <td>-0.208288</td>\n",
       "      <td>0.050400</td>\n",
       "      <td>-0.165915</td>\n",
       "      <td>0.020256</td>\n",
       "      <td>0.006841</td>\n",
       "      <td>0.027690</td>\n",
       "      <td>0.000061</td>\n",
       "      <td>0.038445</td>\n",
       "      <td>0.044910</td>\n",
       "      <td>0.029859</td>\n",
       "      <td>0.217501</td>\n",
       "      <td>0.225139</td>\n",
       "      <td>0.211800</td>\n",
       "    </tr>\n",
       "    <tr>\n",
       "      <th>traveltime</th>\n",
       "      <td>0.034490</td>\n",
       "      <td>-0.265079</td>\n",
       "      <td>-0.208288</td>\n",
       "      <td>1.000000</td>\n",
       "      <td>-0.063154</td>\n",
       "      <td>0.097730</td>\n",
       "      <td>-0.009521</td>\n",
       "      <td>0.000937</td>\n",
       "      <td>0.057454</td>\n",
       "      <td>0.092824</td>\n",
       "      <td>0.057007</td>\n",
       "      <td>-0.048261</td>\n",
       "      <td>-0.008149</td>\n",
       "      <td>-0.154120</td>\n",
       "      <td>-0.154489</td>\n",
       "      <td>-0.127173</td>\n",
       "    </tr>\n",
       "    <tr>\n",
       "      <th>studytime</th>\n",
       "      <td>-0.008415</td>\n",
       "      <td>0.097006</td>\n",
       "      <td>0.050400</td>\n",
       "      <td>-0.063154</td>\n",
       "      <td>1.000000</td>\n",
       "      <td>-0.147441</td>\n",
       "      <td>-0.004127</td>\n",
       "      <td>-0.068829</td>\n",
       "      <td>-0.075442</td>\n",
       "      <td>-0.137585</td>\n",
       "      <td>-0.214925</td>\n",
       "      <td>-0.056433</td>\n",
       "      <td>-0.118389</td>\n",
       "      <td>0.260875</td>\n",
       "      <td>0.240498</td>\n",
       "      <td>0.249789</td>\n",
       "    </tr>\n",
       "    <tr>\n",
       "      <th>failures</th>\n",
       "      <td>0.319968</td>\n",
       "      <td>-0.172210</td>\n",
       "      <td>-0.165915</td>\n",
       "      <td>0.097730</td>\n",
       "      <td>-0.147441</td>\n",
       "      <td>1.000000</td>\n",
       "      <td>-0.062645</td>\n",
       "      <td>0.108995</td>\n",
       "      <td>0.045078</td>\n",
       "      <td>0.105949</td>\n",
       "      <td>0.082266</td>\n",
       "      <td>0.035588</td>\n",
       "      <td>0.122779</td>\n",
       "      <td>-0.384210</td>\n",
       "      <td>-0.385782</td>\n",
       "      <td>-0.393316</td>\n",
       "    </tr>\n",
       "    <tr>\n",
       "      <th>famrel</th>\n",
       "      <td>-0.020559</td>\n",
       "      <td>0.024421</td>\n",
       "      <td>0.020256</td>\n",
       "      <td>-0.009521</td>\n",
       "      <td>-0.004127</td>\n",
       "      <td>-0.062645</td>\n",
       "      <td>1.000000</td>\n",
       "      <td>0.129216</td>\n",
       "      <td>0.089707</td>\n",
       "      <td>-0.075767</td>\n",
       "      <td>-0.093511</td>\n",
       "      <td>0.109559</td>\n",
       "      <td>-0.089534</td>\n",
       "      <td>0.048795</td>\n",
       "      <td>0.089588</td>\n",
       "      <td>0.063361</td>\n",
       "    </tr>\n",
       "    <tr>\n",
       "      <th>freetime</th>\n",
       "      <td>-0.004910</td>\n",
       "      <td>-0.019686</td>\n",
       "      <td>0.006841</td>\n",
       "      <td>0.000937</td>\n",
       "      <td>-0.068829</td>\n",
       "      <td>0.108995</td>\n",
       "      <td>0.129216</td>\n",
       "      <td>1.000000</td>\n",
       "      <td>0.346352</td>\n",
       "      <td>0.109904</td>\n",
       "      <td>0.120244</td>\n",
       "      <td>0.084526</td>\n",
       "      <td>-0.018716</td>\n",
       "      <td>-0.094497</td>\n",
       "      <td>-0.106678</td>\n",
       "      <td>-0.122705</td>\n",
       "    </tr>\n",
       "    <tr>\n",
       "      <th>goout</th>\n",
       "      <td>0.112805</td>\n",
       "      <td>0.009536</td>\n",
       "      <td>0.027690</td>\n",
       "      <td>0.057454</td>\n",
       "      <td>-0.075442</td>\n",
       "      <td>0.045078</td>\n",
       "      <td>0.089707</td>\n",
       "      <td>0.346352</td>\n",
       "      <td>1.000000</td>\n",
       "      <td>0.245126</td>\n",
       "      <td>0.388680</td>\n",
       "      <td>-0.015741</td>\n",
       "      <td>0.085374</td>\n",
       "      <td>-0.074053</td>\n",
       "      <td>-0.079469</td>\n",
       "      <td>-0.087641</td>\n",
       "    </tr>\n",
       "    <tr>\n",
       "      <th>Dalc</th>\n",
       "      <td>0.134768</td>\n",
       "      <td>-0.007018</td>\n",
       "      <td>0.000061</td>\n",
       "      <td>0.092824</td>\n",
       "      <td>-0.137585</td>\n",
       "      <td>0.105949</td>\n",
       "      <td>-0.075767</td>\n",
       "      <td>0.109904</td>\n",
       "      <td>0.245126</td>\n",
       "      <td>1.000000</td>\n",
       "      <td>0.616561</td>\n",
       "      <td>0.059067</td>\n",
       "      <td>0.172952</td>\n",
       "      <td>-0.195171</td>\n",
       "      <td>-0.189480</td>\n",
       "      <td>-0.204719</td>\n",
       "    </tr>\n",
       "    <tr>\n",
       "      <th>Walc</th>\n",
       "      <td>0.086357</td>\n",
       "      <td>-0.019766</td>\n",
       "      <td>0.038445</td>\n",
       "      <td>0.057007</td>\n",
       "      <td>-0.214925</td>\n",
       "      <td>0.082266</td>\n",
       "      <td>-0.093511</td>\n",
       "      <td>0.120244</td>\n",
       "      <td>0.388680</td>\n",
       "      <td>0.616561</td>\n",
       "      <td>1.000000</td>\n",
       "      <td>0.114988</td>\n",
       "      <td>0.156373</td>\n",
       "      <td>-0.155649</td>\n",
       "      <td>-0.164852</td>\n",
       "      <td>-0.176619</td>\n",
       "    </tr>\n",
       "    <tr>\n",
       "      <th>health</th>\n",
       "      <td>-0.008750</td>\n",
       "      <td>0.004614</td>\n",
       "      <td>0.044910</td>\n",
       "      <td>-0.048261</td>\n",
       "      <td>-0.056433</td>\n",
       "      <td>0.035588</td>\n",
       "      <td>0.109559</td>\n",
       "      <td>0.084526</td>\n",
       "      <td>-0.015741</td>\n",
       "      <td>0.059067</td>\n",
       "      <td>0.114988</td>\n",
       "      <td>1.000000</td>\n",
       "      <td>-0.030235</td>\n",
       "      <td>-0.051647</td>\n",
       "      <td>-0.082179</td>\n",
       "      <td>-0.098851</td>\n",
       "    </tr>\n",
       "    <tr>\n",
       "      <th>absences</th>\n",
       "      <td>0.149998</td>\n",
       "      <td>-0.008577</td>\n",
       "      <td>0.029859</td>\n",
       "      <td>-0.008149</td>\n",
       "      <td>-0.118389</td>\n",
       "      <td>0.122779</td>\n",
       "      <td>-0.089534</td>\n",
       "      <td>-0.018716</td>\n",
       "      <td>0.085374</td>\n",
       "      <td>0.172952</td>\n",
       "      <td>0.156373</td>\n",
       "      <td>-0.030235</td>\n",
       "      <td>1.000000</td>\n",
       "      <td>-0.147149</td>\n",
       "      <td>-0.124745</td>\n",
       "      <td>-0.091379</td>\n",
       "    </tr>\n",
       "    <tr>\n",
       "      <th>G1</th>\n",
       "      <td>-0.174322</td>\n",
       "      <td>0.260472</td>\n",
       "      <td>0.217501</td>\n",
       "      <td>-0.154120</td>\n",
       "      <td>0.260875</td>\n",
       "      <td>-0.384210</td>\n",
       "      <td>0.048795</td>\n",
       "      <td>-0.094497</td>\n",
       "      <td>-0.074053</td>\n",
       "      <td>-0.195171</td>\n",
       "      <td>-0.155649</td>\n",
       "      <td>-0.051647</td>\n",
       "      <td>-0.147149</td>\n",
       "      <td>1.000000</td>\n",
       "      <td>0.864982</td>\n",
       "      <td>0.826387</td>\n",
       "    </tr>\n",
       "    <tr>\n",
       "      <th>G2</th>\n",
       "      <td>-0.107119</td>\n",
       "      <td>0.264035</td>\n",
       "      <td>0.225139</td>\n",
       "      <td>-0.154489</td>\n",
       "      <td>0.240498</td>\n",
       "      <td>-0.385782</td>\n",
       "      <td>0.089588</td>\n",
       "      <td>-0.106678</td>\n",
       "      <td>-0.079469</td>\n",
       "      <td>-0.189480</td>\n",
       "      <td>-0.164852</td>\n",
       "      <td>-0.082179</td>\n",
       "      <td>-0.124745</td>\n",
       "      <td>0.864982</td>\n",
       "      <td>1.000000</td>\n",
       "      <td>0.918548</td>\n",
       "    </tr>\n",
       "    <tr>\n",
       "      <th>G3</th>\n",
       "      <td>-0.106505</td>\n",
       "      <td>0.240151</td>\n",
       "      <td>0.211800</td>\n",
       "      <td>-0.127173</td>\n",
       "      <td>0.249789</td>\n",
       "      <td>-0.393316</td>\n",
       "      <td>0.063361</td>\n",
       "      <td>-0.122705</td>\n",
       "      <td>-0.087641</td>\n",
       "      <td>-0.204719</td>\n",
       "      <td>-0.176619</td>\n",
       "      <td>-0.098851</td>\n",
       "      <td>-0.091379</td>\n",
       "      <td>0.826387</td>\n",
       "      <td>0.918548</td>\n",
       "      <td>1.000000</td>\n",
       "    </tr>\n",
       "  </tbody>\n",
       "</table>\n",
       "</div>"
      ],
      "text/plain": [
       "                 age      Medu      Fedu  traveltime  studytime  failures  \\\n",
       "age         1.000000 -0.107832 -0.121050    0.034490  -0.008415  0.319968   \n",
       "Medu       -0.107832  1.000000  0.647477   -0.265079   0.097006 -0.172210   \n",
       "Fedu       -0.121050  0.647477  1.000000   -0.208288   0.050400 -0.165915   \n",
       "traveltime  0.034490 -0.265079 -0.208288    1.000000  -0.063154  0.097730   \n",
       "studytime  -0.008415  0.097006  0.050400   -0.063154   1.000000 -0.147441   \n",
       "failures    0.319968 -0.172210 -0.165915    0.097730  -0.147441  1.000000   \n",
       "famrel     -0.020559  0.024421  0.020256   -0.009521  -0.004127 -0.062645   \n",
       "freetime   -0.004910 -0.019686  0.006841    0.000937  -0.068829  0.108995   \n",
       "goout       0.112805  0.009536  0.027690    0.057454  -0.075442  0.045078   \n",
       "Dalc        0.134768 -0.007018  0.000061    0.092824  -0.137585  0.105949   \n",
       "Walc        0.086357 -0.019766  0.038445    0.057007  -0.214925  0.082266   \n",
       "health     -0.008750  0.004614  0.044910   -0.048261  -0.056433  0.035588   \n",
       "absences    0.149998 -0.008577  0.029859   -0.008149  -0.118389  0.122779   \n",
       "G1         -0.174322  0.260472  0.217501   -0.154120   0.260875 -0.384210   \n",
       "G2         -0.107119  0.264035  0.225139   -0.154489   0.240498 -0.385782   \n",
       "G3         -0.106505  0.240151  0.211800   -0.127173   0.249789 -0.393316   \n",
       "\n",
       "              famrel  freetime     goout      Dalc      Walc    health  \\\n",
       "age        -0.020559 -0.004910  0.112805  0.134768  0.086357 -0.008750   \n",
       "Medu        0.024421 -0.019686  0.009536 -0.007018 -0.019766  0.004614   \n",
       "Fedu        0.020256  0.006841  0.027690  0.000061  0.038445  0.044910   \n",
       "traveltime -0.009521  0.000937  0.057454  0.092824  0.057007 -0.048261   \n",
       "studytime  -0.004127 -0.068829 -0.075442 -0.137585 -0.214925 -0.056433   \n",
       "failures   -0.062645  0.108995  0.045078  0.105949  0.082266  0.035588   \n",
       "famrel      1.000000  0.129216  0.089707 -0.075767 -0.093511  0.109559   \n",
       "freetime    0.129216  1.000000  0.346352  0.109904  0.120244  0.084526   \n",
       "goout       0.089707  0.346352  1.000000  0.245126  0.388680 -0.015741   \n",
       "Dalc       -0.075767  0.109904  0.245126  1.000000  0.616561  0.059067   \n",
       "Walc       -0.093511  0.120244  0.388680  0.616561  1.000000  0.114988   \n",
       "health      0.109559  0.084526 -0.015741  0.059067  0.114988  1.000000   \n",
       "absences   -0.089534 -0.018716  0.085374  0.172952  0.156373 -0.030235   \n",
       "G1          0.048795 -0.094497 -0.074053 -0.195171 -0.155649 -0.051647   \n",
       "G2          0.089588 -0.106678 -0.079469 -0.189480 -0.164852 -0.082179   \n",
       "G3          0.063361 -0.122705 -0.087641 -0.204719 -0.176619 -0.098851   \n",
       "\n",
       "            absences        G1        G2        G3  \n",
       "age         0.149998 -0.174322 -0.107119 -0.106505  \n",
       "Medu       -0.008577  0.260472  0.264035  0.240151  \n",
       "Fedu        0.029859  0.217501  0.225139  0.211800  \n",
       "traveltime -0.008149 -0.154120 -0.154489 -0.127173  \n",
       "studytime  -0.118389  0.260875  0.240498  0.249789  \n",
       "failures    0.122779 -0.384210 -0.385782 -0.393316  \n",
       "famrel     -0.089534  0.048795  0.089588  0.063361  \n",
       "freetime   -0.018716 -0.094497 -0.106678 -0.122705  \n",
       "goout       0.085374 -0.074053 -0.079469 -0.087641  \n",
       "Dalc        0.172952 -0.195171 -0.189480 -0.204719  \n",
       "Walc        0.156373 -0.155649 -0.164852 -0.176619  \n",
       "health     -0.030235 -0.051647 -0.082179 -0.098851  \n",
       "absences    1.000000 -0.147149 -0.124745 -0.091379  \n",
       "G1         -0.147149  1.000000  0.864982  0.826387  \n",
       "G2         -0.124745  0.864982  1.000000  0.918548  \n",
       "G3         -0.091379  0.826387  0.918548  1.000000  "
      ]
     },
     "execution_count": 181,
     "metadata": {},
     "output_type": "execute_result"
    }
   ],
   "source": [
    "df[con].corr()"
   ]
  },
  {
   "cell_type": "markdown",
   "id": "4e2740d3-e0a2-44b3-87dd-de048b6e1ec1",
   "metadata": {},
   "source": [
    "## Bivariate Analysis"
   ]
  },
  {
   "cell_type": "code",
   "execution_count": 207,
   "id": "1a655663-9f76-4167-9b8c-ab281c4d38a7",
   "metadata": {},
   "outputs": [
    {
     "data": {
      "image/png": "[encoded data removed]",
      "text/plain": [
       "<Figure size 400x400 with 1 Axes>"
      ]
     },
     "metadata": {},
     "output_type": "display_data"
    }
   ],
   "source": [
    "## Scatter Plot\n",
    "\n",
    "plt.figure(figsize=(4,4))\n",
    "plt.scatter(df['G3'], df['G1'])\n",
    "plt.xlabel('G3')\n",
    "plt.ylabel('G1')\n",
    "plt.title('Scatter plot')\n",
    "plt.show()"
   ]
  },
  {
   "cell_type": "code",
   "execution_count": 227,
   "id": "83b05420-a988-4d20-82c9-e27073664451",
   "metadata": {},
   "outputs": [
    {
     "data": {
      "image/png": "[encoded data removed]",
      "text/plain": [
       "<Figure size 400x400 with 1 Axes>"
      ]
     },
     "metadata": {},
     "output_type": "display_data"
    }
   ],
   "source": [
    "plt.figure(figsize=(4,4))\n",
    "plt.scatter(df['age'], df['absences'])\n",
    "plt.title('Age Vs Absences')\n",
    "plt.xlabel('Student Age')\n",
    "plt.ylabel('Absences')\n",
    "plt.show()"
   ]
  },
  {
   "cell_type": "markdown",
   "id": "ba92d590-afba-4007-bcf1-9842b4f23270",
   "metadata": {},
   "source": [
    "## Categorical Values"
   ]
  },
  {
   "cell_type": "code",
   "execution_count": 230,
   "id": "11cd3080-43ae-4a9f-95db-d7782dc4bfc5",
   "metadata": {},
   "outputs": [
    {
     "name": "stdout",
     "output_type": "stream",
     "text": [
      "['school', 'sex', 'address', 'famsize', 'Pstatus', 'Mjob', 'Fjob', 'reason', 'guardian', 'schoolsup', 'famsup', 'paid', 'activities', 'nursery', 'higher', 'internet', 'romantic']\n"
     ]
    }
   ],
   "source": [
    "print(cat)"
   ]
  },
  {
   "cell_type": "markdown",
   "id": "96a97875-75b0-4aa4-a7b1-9d3c2865e58d",
   "metadata": {},
   "source": [
    "### HeatMap"
   ]
  },
  {
   "cell_type": "code",
   "execution_count": 239,
   "id": "866c23e1-54a9-4b7d-8276-4999672a1f5d",
   "metadata": {},
   "outputs": [
    {
     "data": {
      "image/png": "[encoded data removed]",
      "text/plain": [
       "<Figure size 640x480 with 2 Axes>"
      ]
     },
     "metadata": {},
     "output_type": "display_data"
    }
   ],
   "source": [
    "# HeatMap\n",
    "ct=pd.crosstab(df['school'],df['reason'])\n",
    "ct\n",
    "sns.heatmap(ct,annot=True,cmap='viridis')\n",
    "plt.show()"
   ]
  },
  {
   "cell_type": "markdown",
   "id": "d42d41c8-08d6-4321-a832-5fdf2ced7b9f",
   "metadata": {},
   "source": [
    "## Categorical and Continuous"
   ]
  },
  {
   "cell_type": "markdown",
   "id": "27f4071b-d4b0-4ed0-a185-f3a66df7cd43",
   "metadata": {},
   "source": [
    "### BoxPlot"
   ]
  },
  {
   "cell_type": "code",
   "execution_count": 237,
   "id": "9538ceff-a339-402d-a490-f1dcdb77b5d4",
   "metadata": {},
   "outputs": [
    {
     "data": {
      "image/png": "[encoded data removed]",
      "text/plain": [
       "<Figure size 640x480 with 1 Axes>"
      ]
     },
     "metadata": {},
     "output_type": "display_data"
    }
   ],
   "source": [
    "sns.boxplot(x='sex',y='G3',data=df)\n",
    "plt.show()"
   ]
  }
 ],
 "metadata": {
  "kernelspec": {
   "display_name": "Python 3 (ipykernel)",
   "language": "python",
   "name": "python3"
  },
  "language_info": {
   "codemirror_mode": {
    "name": "ipython",
    "version": 3
   },
   "file_extension": ".py",
   "mimetype": "text/x-python",
   "name": "python",
   "nbconvert_exporter": "python",
   "pygments_lexer": "ipython3",
   "version": "3.12.4"
  }
 },
 "nbformat": 4,
 "nbformat_minor": 5
}
